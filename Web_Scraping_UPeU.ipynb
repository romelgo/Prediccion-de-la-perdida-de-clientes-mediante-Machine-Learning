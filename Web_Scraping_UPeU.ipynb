{
  "nbformat": 4,
  "nbformat_minor": 0,
  "metadata": {
    "colab": {
      "provenance": [],
      "authorship_tag": "ABX9TyNbHTYi9MsXk2jne1PUUSjw",
      "include_colab_link": true
    },
    "kernelspec": {
      "name": "python3",
      "display_name": "Python 3"
    },
    "language_info": {
      "name": "python"
    }
  },
  "cells": [
    {
      "cell_type": "markdown",
      "metadata": {
        "id": "view-in-github",
        "colab_type": "text"
      },
      "source": [
        "<a href=\"https://colab.research.google.com/github/romelgo/Prediccion-de-la-perdida-de-clientes-mediante-Machine-Learning/blob/main/Web_Scraping_UPeU.ipynb\" target=\"_parent\"><img src=\"https://colab.research.google.com/assets/colab-badge.svg\" alt=\"Open In Colab\"/></a>"
      ]
    },
    {
      "cell_type": "markdown",
      "source": [
        "# Proceso de ingestión de datos mediante web scraping en **upeu.edu.pe**:"
      ],
      "metadata": {
        "id": "kuOb2PNlv3gj"
      }
    },
    {
      "cell_type": "markdown",
      "source": [
        "**1. Objetivo**\n",
        "\n",
        "Elegimos una universidad (**en este caso la UPEU)** porque su página web concentra información estructurada y relevante en distintos ámbitos: **oferta académica, docentes, líneas de investigación, noticias institucionales y servicios a la comunidad.**\n",
        "El objetivo principal es ***construir un dataset realista y confiable*** que sirva de base para análisis educativos, institucionales y de innovación. Además, trabajar con una universidad permite obtener información pública (no privada ni sensible) que respeta la ética del scraping y que es útil para estudios académicos."
      ],
      "metadata": {
        "id": "gzJWpwp9wD-_"
      }
    },
    {
      "cell_type": "markdown",
      "source": [
        "**2. Datos o información necesarios para recolectar**\n",
        "\n",
        "Algunos de los datos más relevantes que se podrían extraer de la web de upeu.edu.pe son:\n",
        "\n",
        "- Carreras profesionales y programas académicos (descripción, duración, malla curricular).\n",
        "\n",
        "- Docentes e investigadores (nombres, grados académicos, especialidades, publicaciones).\n",
        "\n",
        "- Noticias y eventos (temas recurrentes, comunicados institucionales).\n",
        "\n",
        "- Convocatorias y admisión (fechas, requisitos, procesos).\n",
        "\n",
        "- Información sobre campus (ubicaciones, facultades, servicios estudiantiles)."
      ],
      "metadata": {
        "id": "sgYSRSO5web_"
      }
    },
    {
      "cell_type": "markdown",
      "source": [
        "**Extrae y normaliza:**\n",
        "\n",
        "Respetamos `robots.txt` automáticamente.\n",
        "\n",
        "- Carreras y mallas curriculares.\n",
        "\n",
        "- Docentes (enlaces a “Plana Docente” y, opcional, lectura tabular de PDF con Camelot).\n",
        "\n",
        "- Noticias y eventos (título, fecha, categorías, url).\n",
        "\n",
        "- Convocatorias y admisión (modalidades + requisitos).\n",
        "\n",
        "- Información de campus (sedes y direcciones)."
      ],
      "metadata": {
        "id": "DsY2ELVjxJ2i"
      }
    },
    {
      "cell_type": "code",
      "source": [],
      "metadata": {
        "id": "U3p1d5V8wdY_"
      },
      "execution_count": null,
      "outputs": []
    },
    {
      "cell_type": "code",
      "execution_count": null,
      "metadata": {
        "id": "lQNHkSxlurAo"
      },
      "outputs": [],
      "source": []
    },
    {
      "cell_type": "markdown",
      "source": [],
      "metadata": {
        "id": "N6Nq0FDBxeYZ"
      }
    }
  ]
}